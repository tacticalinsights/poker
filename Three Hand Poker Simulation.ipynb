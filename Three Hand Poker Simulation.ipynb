{
 "cells": [
  {
   "cell_type": "code",
   "execution_count": 1,
   "id": "31c56d91",
   "metadata": {},
   "outputs": [],
   "source": [
    "import random\n",
    "import itertools"
   ]
  },
  {
   "cell_type": "code",
   "execution_count": 2,
   "id": "8861bd81",
   "metadata": {},
   "outputs": [],
   "source": [
    "ranks = ['Two', 'Three', 'Four', 'Five', 'Six', 'Seven', 'Eight', 'Nine', 'Ten', 'Jack', 'Queen', 'King', 'Ace']\n",
    "suits = ['Spades', 'Clubs', 'Hearts', 'Diamonds']\n",
    "values = {'Two':2, 'Three':3, 'Four':4, 'Five':5, 'Six':6, 'Seven':7, 'Eight':8, \n",
    "          'Nine':9, 'Ten':10, 'Jack':11, 'Queen':12, 'King':13, 'Ace': 14}"
   ]
  },
  {
   "cell_type": "code",
   "execution_count": 3,
   "id": "892d4f0d",
   "metadata": {},
   "outputs": [],
   "source": [
    "class Card:\n",
    "    \n",
    "    def __init__(self, rank, suit):\n",
    "        self.rank = rank\n",
    "        self.suit = suit\n",
    "    \n",
    "    def __str__(self):\n",
    "        return self.rank + ' ' + self.suit\n",
    "    \n",
    "    def __repr__(self):\n",
    "        return self.rank + ' ' + self.suit"
   ]
  },
  {
   "cell_type": "code",
   "execution_count": 4,
   "id": "3cf1886d",
   "metadata": {},
   "outputs": [],
   "source": [
    "class Deck:\n",
    "    \n",
    "    def __init__(self):\n",
    "        self.deck = []\n",
    "        for suit in suits:\n",
    "            for rank in ranks:\n",
    "                self.deck.append(Card(rank, suit))\n",
    "                \n",
    "    def shuffle(self):\n",
    "        random.shuffle(self.deck)\n",
    "    \n",
    "    def burn(self):\n",
    "        self.deck.append(self.deck.pop(0)) # move first element to end of list\n",
    "    \n",
    "    def deal(self):\n",
    "        return self.deck.pop(0)\n",
    "    \n",
    "    def __str__(self):\n",
    "        deck = ''\n",
    "        for card in self.deck:\n",
    "            deck += card.__str__() + '\\n'\n",
    "        return deck[:-1]"
   ]
  },
  {
   "cell_type": "code",
   "execution_count": 5,
   "id": "b5e52a42",
   "metadata": {},
   "outputs": [],
   "source": [
    "def best_hand(cards):\n",
    "    # straight flush and straight\n",
    "    if values[hand[0].rank] == values[hand[1].rank] + 1 == values[hand[2].rank] + 2:\n",
    "        if hand[0].suit == hand[1].suit == hand[2].suit:\n",
    "            return \"straight_flush\"\n",
    "        else:\n",
    "            return \"straight\"\n",
    "    if hand[0].rank == 'Ace' and hand[1].rank == 'Three' and hand[2].rank == 'Two':\n",
    "        return \"straight\"\n",
    "    # flush\n",
    "    if hand[0].suit == hand[1].suit == hand[2].suit:\n",
    "        return \"flush\"\n",
    "    # trips\n",
    "    if hand[0].rank == hand[1].rank == hand[2].rank:\n",
    "        return \"trips\"\n",
    "    # pair\n",
    "    if (hand[0].rank == hand[1].rank) or (hand[0].rank == hand[2].rank) or (hand[1].rank == hand[2].rank):\n",
    "        return \"pair\"\n",
    "    return \"high_card\""
   ]
  },
  {
   "cell_type": "code",
   "execution_count": 6,
   "id": "7d07a225",
   "metadata": {},
   "outputs": [],
   "source": [
    "hand_history = []\n",
    "num_iters = 1000000\n",
    "for x in range(num_iters):\n",
    "    deck = Deck()\n",
    "    deck.shuffle()\n",
    "    hand = []\n",
    "    for x in range(3):\n",
    "        hand.append(deck.deal())\n",
    "    hand.sort(key = (lambda x: values[x.rank]), reverse = True)\n",
    "    hand_history.append(best_hand(hand))"
   ]
  },
  {
   "cell_type": "code",
   "execution_count": 9,
   "id": "415fa882",
   "metadata": {},
   "outputs": [],
   "source": [
    "probabilities = {'high_card': hand_history.count('high_card')/num_iters,\n",
    "                 'pair': hand_history.count('pair')/num_iters, \n",
    "                 'flush': hand_history.count('flush')/num_iters,\n",
    "                 'straight': hand_history.count('straight')/num_iters,\n",
    "                 'trips': hand_history.count('trips')/num_iters,\n",
    "                 'straight_flush': hand_history.count('straight_flush')/num_iters}"
   ]
  },
  {
   "cell_type": "code",
   "execution_count": 10,
   "id": "812c40a6",
   "metadata": {},
   "outputs": [
    {
     "name": "stdout",
     "output_type": "stream",
     "text": [
      "{'high_card': 0.743941, 'pair': 0.169123, 'flush': 0.049984, 'straight': 0.032589, 'trips': 0.002363, 'straight_flush': 0.002}\n"
     ]
    }
   ],
   "source": [
    "print(probabilities)"
   ]
  },
  {
   "cell_type": "code",
   "execution_count": null,
   "id": "9462be3e",
   "metadata": {},
   "outputs": [],
   "source": []
  }
 ],
 "metadata": {
  "kernelspec": {
   "display_name": "Python 3 (ipykernel)",
   "language": "python",
   "name": "python3"
  },
  "language_info": {
   "codemirror_mode": {
    "name": "ipython",
    "version": 3
   },
   "file_extension": ".py",
   "mimetype": "text/x-python",
   "name": "python",
   "nbconvert_exporter": "python",
   "pygments_lexer": "ipython3",
   "version": "3.9.13"
  }
 },
 "nbformat": 4,
 "nbformat_minor": 5
}
